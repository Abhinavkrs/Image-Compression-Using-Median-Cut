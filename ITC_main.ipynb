{
 "cells": [
  {
   "cell_type": "code",
   "execution_count": 3,
   "metadata": {
    "collapsed": true
   },
   "outputs": [],
   "source": [
    "import cv2\n",
    "import numpy as np\n",
    "from ITC_Support import *\n",
    "\n",
    "def encode(path):\n",
    "    img = cv2.imread(path)\n",
    "    img = np.array(img)\n",
    "    rows,cols,channel = img.shape\n",
    "    img_b,img_g,img_r = cv2.split(img)\n",
    "    o_img_b,o_img_g,o_img_r = cv2.split(img)\n",
    "\n",
    "    depth = int(input(\"Enter the depth: \"))\n",
    "\n",
    "    nodes = pow(2,depth)\n",
    "    g_encode = median_cut(img_g,depth)\n",
    "    b_encode = median_cut(img_b,depth)\n",
    "    r_encode = median_cut(img_r,depth)\n",
    "\n",
    "    with open('lookup32.csv','w') as file:\n",
    "        file.write(\"Green lookup:\\n\")\n",
    "        file.write(\"Start,End,Value\\n\")\n",
    "        for i in range(nodes):\n",
    "            file.write(str(g_encode[i])+','+str(g_encode[i+1])+','+str(int(g_encode[i]/2+g_encode[i+1]/2)))\n",
    "            file.write('\\n')\n",
    "        file.write(\"Blue lookup:\\n\")\n",
    "        file.write(\"Start,End,Value\\n\")\n",
    "        for i in range(nodes):\n",
    "            file.write(str(b_encode[i])+','+str(b_encode[i+1])+','+str(int(b_encode[i]/2+b_encode[i+1]/2)))\n",
    "            file.write('\\n')\n",
    "        file.write(\"Red lookup:\\n\")\n",
    "        file.write(\"Start,End,Value\\n\")\n",
    "        for i in range(nodes):\n",
    "            file.write(str(r_encode[i])+','+str(r_encode[i+1])+','+str(int(r_encode[i]/2+r_encode[i+1]/2)))\n",
    "            file.write('\\n')\n",
    "\n",
    "    for i in range(rows):\n",
    "        for j in range(cols):\n",
    "            index = binarySearch(b_encode,0,nodes-1,img_b[i][j])\n",
    "            if(index!=-1):\n",
    "                img_b[i][j] = int(b_encode[index]/2+b_encode[index+1]/2)\n",
    "            index = binarySearch(g_encode,0,nodes-1,img_g[i][j])\n",
    "            if(index!=-1):\n",
    "                img_g[i][j] = int(g_encode[index]/2+g_encode[index+1]/2)\n",
    "            index = binarySearch(r_encode,0,nodes-1,img_r[i][j])\n",
    "            if(index!=-1):\n",
    "                img_r[i][j] = int(r_encode[index]/2+r_encode[index+1]/2)\n",
    "\n",
    "    rgb = np.dstack((img_b,img_g,img_r))\n",
    "    return rgb,img"
   ]
  }
 ],
 "metadata": {
  "kernelspec": {
   "display_name": "Python 2",
   "language": "python",
   "name": "python2"
  },
  "language_info": {
   "codemirror_mode": {
    "name": "ipython",
    "version": 2
   },
   "file_extension": ".py",
   "mimetype": "text/x-python",
   "name": "python",
   "nbconvert_exporter": "python",
   "pygments_lexer": "ipython2",
   "version": "2.7.13"
  }
 },
 "nbformat": 4,
 "nbformat_minor": 2
}
