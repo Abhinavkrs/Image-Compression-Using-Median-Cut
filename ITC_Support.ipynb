{
 "cells": [
  {
   "cell_type": "code",
   "execution_count": null,
   "metadata": {
    "collapsed": true
   },
   "outputs": [],
   "source": [
    "import cv2\n",
    "import numpy as np\n",
    "\n",
    "#path = \"C:\\Users\\Abhinav\\Downloads\\lotus.bmp\"\n",
    "\n",
    "def binarySearch(encode,l,h,x):\n",
    "    \n",
    "    if l>h:\n",
    "        return -1\n",
    "    if x>=(encode[h]):\n",
    "        return h\n",
    "    mid = int((l+h)/2)\n",
    "    if encode[mid]==x:\n",
    "        return mid\n",
    "    if mid>0 and (encode[mid-1])<=x and x<(encode[mid]):\n",
    "        return mid-1\n",
    "    if x<(encode[mid]):\n",
    "        return binarySearch(encode,l,mid-1,x)\n",
    "    return binarySearch(encode,mid+1,h,x)\n",
    "\n",
    "def flatten_image(image):\n",
    "    \n",
    "    flat = []\n",
    "    flat = [x for sublist in image for x in sublist]\n",
    "    flat = np.array(flat)\n",
    "    return flat\n",
    "\n",
    "def median_cut(img,depth):\n",
    "    \n",
    "    img = flatten_image(img)\n",
    "    img.sort()\n",
    "    n = len(img)\n",
    "    encode = []\n",
    "    x = int(n/pow(2,depth))\n",
    "    for i in range(0,pow(2,depth)):\n",
    "        encode.append(img[i*x])\n",
    "    encode.append(img[n-1])\n",
    "    return encode\n",
    "\n",
    "def SNR(original_img,compressed_img,rows,cols):\n",
    "    \n",
    "    noise = [[0 for x in range(rows)] for y in range(cols)]\n",
    "    for i in range(rows):\n",
    "        for j in range(cols):\n",
    "            if(original_img[i][j]>compressed_img[i][j]):\n",
    "                noise[i][j]=original_img[i][j]-compressed_img[i][j]\n",
    "            else:\n",
    "                noise[i][j]=(compressed_img[i][j]-original_img[i][j])\n",
    "                noise[i][j]*=-1\n",
    "    return noise"
   ]
  }
 ],
 "metadata": {
  "kernelspec": {
   "display_name": "Python 2",
   "language": "python",
   "name": "python2"
  },
  "language_info": {
   "codemirror_mode": {
    "name": "ipython",
    "version": 2
   },
   "file_extension": ".py",
   "mimetype": "text/x-python",
   "name": "python",
   "nbconvert_exporter": "python",
   "pygments_lexer": "ipython2",
   "version": "2.7.13"
  }
 },
 "nbformat": 4,
 "nbformat_minor": 2
}
