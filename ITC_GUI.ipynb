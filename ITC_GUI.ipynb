{
 "cells": [
  {
   "cell_type": "code",
   "execution_count": 14,
   "metadata": {
    "scrolled": true
   },
   "outputs": [
    {
     "name": "stdout",
     "output_type": "stream",
     "text": [
      "Enter the depth: 3\n"
     ]
    }
   ],
   "source": [
    "from Tkinter import *\n",
    "import cv2\n",
    "import Tkinter, tkFileDialog\n",
    "import numpy as np\n",
    "from ITC_Support import *\n",
    "from ITC_main import *\n",
    "\n",
    "root = Tkinter.Tk()\n",
    "root.withdraw()\n",
    "\n",
    "path = tkFileDialog.askopenfilename()\n",
    "encoded,original = encode(path)\n",
    "\n",
    "#cv2.namedWindow('Compressed Image', cv2.WINDOW_NORMAL)\n",
    "cv2.imshow('Compressed Image',encoded)\n",
    "\n",
    "#cv2.namedWindow('Original Image', cv2.WINDOW_NORMAL)\n",
    "cv2.imshow('Original Image',original)\n",
    "\n",
    "cv2.waitKey(0)\n",
    "cv2.destroyAllWindows()"
   ]
  },
  {
   "cell_type": "code",
   "execution_count": null,
   "metadata": {
    "collapsed": true
   },
   "outputs": [],
   "source": []
  }
 ],
 "metadata": {
  "kernelspec": {
   "display_name": "Python 2",
   "language": "python",
   "name": "python2"
  },
  "language_info": {
   "codemirror_mode": {
    "name": "ipython",
    "version": 2
   },
   "file_extension": ".py",
   "mimetype": "text/x-python",
   "name": "python",
   "nbconvert_exporter": "python",
   "pygments_lexer": "ipython2",
   "version": "2.7.13"
  }
 },
 "nbformat": 4,
 "nbformat_minor": 2
}
